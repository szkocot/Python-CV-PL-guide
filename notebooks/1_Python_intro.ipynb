{
 "cells": [
  {
   "cell_type": "markdown",
   "metadata": {},
   "source": [
    "# Wstęp do pythona"
   ]
  },
  {
   "cell_type": "markdown",
   "metadata": {},
   "source": [
    "## O języku węża"
   ]
  },
  {
   "cell_type": "code",
   "execution_count": null,
   "metadata": {},
   "outputs": [],
   "source": []
  },
  {
   "cell_type": "markdown",
   "metadata": {},
   "source": [
    "## Python 2.x, a 3.x"
   ]
  },
  {
   "cell_type": "markdown",
   "metadata": {},
   "source": [
    "### Ramy czasowe"
   ]
  },
  {
   "cell_type": "markdown",
   "metadata": {},
   "source": [
    "Python 2.x jest z nami od początku XXI wieku. Wprowadził takie cechy jak list comprehension (`[str(x) for x in range(10)]`), jednak jego wsparcie zostanie porzucone od 2020 roku. Oznacza to, że poza nielicznymi przypadkami (rozwijanie starych projektów, których konwersja do 3.x może okazać się zbyt ryzykowna i/lub pracochłonna) nie warto rozważać, czy wybrać Pythona 2.x czy 3.x.  \n",
    "\n",
    "Python 3 został wydany pod koniec 2008 roku. Obecnie wykorzystuje się jego wersje 3.6 (wspacie 99% bibliotek) oraz 3.7 (ostatnia stabilna wersja, trwają pracę nad wsparciem brakujących bibliotek).  \n",
    "\n",
    "Z tych względów w tym poradniku wykorzystywać będziemy wersję 3.6."
   ]
  },
  {
   "cell_type": "markdown",
   "metadata": {},
   "source": [
    "### Różnice"
   ]
  },
  {
   "cell_type": "markdown",
   "metadata": {},
   "source": [
    "Dla tych z Państwa , którzy na codzień mieli jedynie do czynienia z 2-gą wersją Pythona zaprezentujemy kilka konceptów, które zostały zmienione wraz z wzrostem o 1 głównego numeru wersji."
   ]
  },
  {
   "cell_type": "code",
   "execution_count": 1,
   "metadata": {},
   "outputs": [
    {
     "name": "stdout",
     "output_type": "stream",
     "text": [
      "tak dziala python 3\n"
     ]
    }
   ],
   "source": [
    "print('tak dziala python 3')\n",
    "# dla pythona 2: print 'tak dziala python 2'"
   ]
  },
  {
   "cell_type": "markdown",
   "metadata": {},
   "source": [
    "Więcej:\n",
    "https://sebastianraschka.com/Articles/2014_python_2_3_key_diff.html"
   ]
  },
  {
   "cell_type": "markdown",
   "metadata": {},
   "source": [
    "## Podstawowe komendy"
   ]
  },
  {
   "cell_type": "code",
   "execution_count": null,
   "metadata": {},
   "outputs": [],
   "source": []
  }
 ],
 "metadata": {
  "kernelspec": {
   "display_name": "Python 3",
   "language": "python",
   "name": "python3"
  },
  "language_info": {
   "codemirror_mode": {
    "name": "ipython",
    "version": 3
   },
   "file_extension": ".py",
   "mimetype": "text/x-python",
   "name": "python",
   "nbconvert_exporter": "python",
   "pygments_lexer": "ipython3",
   "version": "3.6.5"
  }
 },
 "nbformat": 4,
 "nbformat_minor": 2
}
