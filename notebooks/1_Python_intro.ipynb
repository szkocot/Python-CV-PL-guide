{
 "cells": [
  {
   "cell_type": "markdown",
   "metadata": {},
   "source": [
    "### Cześć! Skoro tutaj trafiłeś, to najprawdopodobniej należysz do jednej z dwóch grup: albo zastanawiasz się, w jaki sposób można przetwarzać obrazy cyfrowe, albo: co jeszcze można zrobić w Pythonie? Mamy nadzieję, że w naszym poradniku znajdziesz odpowiedź. A nawet jeśli wpadłeś na niego zupełnie przypadkowo, to i tak lektura może okazać się całkiem interesująca ;)"
   ]
  },
  {
   "cell_type": "markdown",
   "metadata": {},
   "source": [
    "#### Poniższy przewodnik jest wynikiem pracy trzech studentów w ramach projektu zaliczeniowego z przedmiotu związanego z cyfrowym przetwarzaniem obrazów. Mamy nadzieję, że zagadnienia w nim przedstawione, zachęcą Cię do dalszego rozwoju w tym kierunku :) "
   ]
  },
  {
   "cell_type": "markdown",
   "metadata": {},
   "source": [
    "# Wstęp"
   ]
  },
  {
   "cell_type": "markdown",
   "metadata": {},
   "source": [
    "## Dlaczego Python?"
   ]
  },
  {
   "cell_type": "markdown",
   "metadata": {},
   "source": [
    "Wybraliśmy ten język, ponieważ obecnie jest to jeden z najpopularniejszych języków programowania. Dodatkowo ma prostą składnię i należy do grupy języków wysoiego poziomu – czyli stosujemy w nim szereg gotowych funkcji, które ułatwiają pracę! Dzięki temu powstało wiele bibliotek dedykowanych różnym problemom/zadaniom, a Python stał się bardzo wszechstronnym narzędziem. \n",
    "\n",
    "I śmieszy nas Monty Python (to od tej grupy komików wywodzi się nazwa języka) – ale spokojnie, w poradniku skupiamy się na rozwiązywaniu powszechnych zadań związanych z przetwarzaniem obrazów cyfrowych, także zapraszamy do lektury, nawet jeśli masz zupełnie inne poczucie humoru.  "
   ]
  },
  {
   "cell_type": "markdown",
   "metadata": {},
   "source": [
    "## Python 2.x a 3.x"
   ]
  },
  {
   "cell_type": "markdown",
   "metadata": {},
   "source": [
    "### Ramy czasowe"
   ]
  },
  {
   "cell_type": "markdown",
   "metadata": {},
   "source": [
    "Python 2.x jest z nami od początku XXI wieku. Wprowadził takie cechy jak list comprehension (`[str(x) for x in range(10)]`), jednak jego wsparcie zostanie porzucone od 2020 roku. Oznacza to, że poza nielicznymi przypadkami (rozwijanie starych projektów, których konwersja do 3.x może okazać się zbyt ryzykowna i/lub pracochłonna) nie warto rozważać, czy wybrać Pythona 2.x czy 3.x.  \n",
    "\n",
    "Python 3. został wydany pod koniec 2008 roku. Obecnie wykorzystuje się jego wersje 3.6 (wspacie 99% bibliotek) oraz 3.7 (ostatnia stabilna wersja, trwają pracę nad wsparciem brakujących bibliotek).  \n",
    "\n",
    "Z tych względów w tym poradniku wykorzystywać będziemy wersję 3.6."
   ]
  },
  {
   "cell_type": "markdown",
   "metadata": {},
   "source": [
    "### Różnice"
   ]
  },
  {
   "cell_type": "markdown",
   "metadata": {},
   "source": [
    "Jeśli do tej pory korzystałeś tylko z wersji 2.x, polecamy zapoznać się z artykułem: https://sebastianraschka.com/Articles/2014_python_2_3_key_diff.html, gdzie opisane zostały główne różnice."
   ]
  },
  {
   "cell_type": "markdown",
   "metadata": {},
   "source": [
    "## Podstawowe komendy"
   ]
  },
  {
   "cell_type": "markdown",
   "metadata": {},
   "source": [
    "##### Poniżej znajdziesz przykładowe pętle. Zauważ, że bloki kodu nie są wydzielone żadnym widocznym znakiem czy słowem (pętle nie kończą się klamrą, nawiasem lub \"endem\") – w Pythonie wnętrze pętli (lub funkcji) zaznaczamy poprzez odpowiednie wcięcie (tabulator). Dzięki temu kod jest przejrzysty i łatwy do odczytania. Jeśli jednak po zakończeniu pętli zapomnisz wrócić kursorem do początku linii, kolejne instrukcje będą wykonywane jako dalsza część danego bloku, co może dać nieoczekiwane efekty! Lepiej o tym pamiętać."
   ]
  },
  {
   "cell_type": "markdown",
   "metadata": {},
   "source": [
    "* wyrażenia warunkowe"
   ]
  },
  {
   "cell_type": "code",
   "execution_count": 3,
   "metadata": {},
   "outputs": [
    {
     "name": "stdout",
     "output_type": "stream",
     "text": [
      "Python is easy!\n"
     ]
    }
   ],
   "source": [
    "python_is_easy = True # boolean True lub False\n",
    "if python_is_easy:\n",
    "    print('Python is easy!')\n",
    "else:\n",
    "    print('Python is hard :(')"
   ]
  },
  {
   "cell_type": "markdown",
   "metadata": {},
   "source": [
    "* pętla while"
   ]
  },
  {
   "cell_type": "code",
   "execution_count": 4,
   "metadata": {},
   "outputs": [
    {
     "name": "stdout",
     "output_type": "stream",
     "text": [
      "W\n",
      "pythonie\n",
      "możemy\n",
      "używać\n",
      "pojedynczyk\n",
      "lub\n",
      "podwójnych\n",
      "apostrofów\n",
      "do\n",
      "znaków\n",
      "bądź\n",
      "słów\n"
     ]
    }
   ],
   "source": [
    "string = r'W pythonie możemy używać pojedynczych lub podwójnych apostrofów do znaków bądź słów'\n",
    "slowa = string.split(' ') # ta metoda dzieli nam ciąg znaków/słów wg podanego kryterium, tutaj po spacji.\n",
    "licznik = 0\n",
    "\n",
    "while licznik<len(slowa):\n",
    "    print(slowa[licznik])\n",
    "    licznik+=1"
   ]
  },
  {
   "cell_type": "markdown",
   "metadata": {},
   "source": [
    "<font color= red> **WAŻNE!** </font> W tym języku indeksujemy od 0."
   ]
  },
  {
   "cell_type": "markdown",
   "metadata": {},
   "source": [
    "* pętla for (wraz z uruchamianiem paczek)"
   ]
  },
  {
   "cell_type": "code",
   "execution_count": 6,
   "metadata": {},
   "outputs": [],
   "source": [
    "import tqdm # ta paczka pozwoli nam na wygenerowanie paska postępu (przydatne przy długich operacjach)"
   ]
  },
  {
   "cell_type": "code",
   "execution_count": 11,
   "metadata": {},
   "outputs": [],
   "source": [
    "import urllib # pozwoli nam na przeczytanie pliku tekstowego z internetu"
   ]
  },
  {
   "cell_type": "code",
   "execution_count": 24,
   "metadata": {},
   "outputs": [
    {
     "name": "stderr",
     "output_type": "stream",
     "text": [
      "\r",
      "0it [00:00, ?it/s]"
     ]
    },
    {
     "name": "stdout",
     "output_type": "stream",
     "text": [
      "The Zen of Python, by Tim Peters\n",
      "\n",
      "\n",
      "\n",
      "Beautiful is better than ugly.\n",
      "\n",
      "Explicit is better than implicit.\n",
      "\n",
      "Simple is better than complex.\n",
      "\n",
      "Complex is better than complicated.\n",
      "\n",
      "Flat is better than nested.\n",
      "\n",
      "Sparse is better than dense.\n",
      "\n",
      "Readability counts.\n",
      "\n",
      "Special cases aren't special enough to break the rules.\n",
      "\n",
      "Although practicality beats purity.\n",
      "\n",
      "Errors should never pass silently.\n",
      "\n",
      "Unless explicitly silenced.\n",
      "\n",
      "In the face of ambiguity, refuse the temptation to guess.\n",
      "\n",
      "There should be one-- and preferably only one --obvious way to do it.\n",
      "\n",
      "Although that way may not be obvious at first unless you're Dutch.\n",
      "\n",
      "Now is better than never.\n",
      "\n",
      "Although never is often better than *right* now.\n",
      "\n",
      "If the implementation is hard to explain, it's a bad idea.\n",
      "\n",
      "If the implementation is easy to explain, it may be a good idea.\n",
      "\n",
      "Namespaces are one honking great idea -- let's do more of those!\n",
      "\n"
     ]
    },
    {
     "name": "stderr",
     "output_type": "stream",
     "text": [
      "21it [00:00, 915.76it/s]\n"
     ]
    }
   ],
   "source": [
    "with urllib.request.urlopen('http://files.catwell.info/misc/mirror/zen-of-python.txt') as txt:\n",
    "    for line in tqdm.tqdm(txt):\n",
    "        print(line.decode(\"utf-8\"))"
   ]
  },
  {
   "cell_type": "markdown",
   "metadata": {},
   "source": [
    "Jest to znane Zem of Python. Możemy też uzyskać je poprzez użycie komendy \"import this\"."
   ]
  },
  {
   "cell_type": "markdown",
   "metadata": {},
   "source": [
    "Jeśli korzystasz z Jupyter Notebook komendy możemy wywoływać również z poziomu terminala/shell – należy po prostu poprzedzić komendę wykrzyknikiem. Kolejne polecenia możemy rozdzielać przecinkiem. "
   ]
  },
  {
   "cell_type": "code",
   "execution_count": 23,
   "metadata": {},
   "outputs": [],
   "source": [
    "! python -c \"import antigravity\""
   ]
  },
  {
   "cell_type": "markdown",
   "metadata": {},
   "source": [
    "Wykorzystaliśmy tutaj tzw list comprehension, które umożliwia uzyskanie listy z elementami przetworzonymi lub przefiltrowanymi wybranym przez nas kryterium. Wykorzystywane często przy prostych operacjach. Działają też dla obiektow tuple (krotka) lub dictionary (słownik)."
   ]
  },
  {
   "cell_type": "markdown",
   "metadata": {},
   "source": [
    "## Instalacja bibliotek"
   ]
  },
  {
   "cell_type": "markdown",
   "metadata": {},
   "source": [
    "###### Jak wspomnieliśmy, Python posiada wiele bibliotek dedykowanych do różnych celów.  Aby móc z nich skorzystać, należy je najpierw aktywować poleceniem <font color= green>import </font>. Część podstawowych modułów jest wbudowana, inne trzeba zainstalować. Istnieje wiele sposobów, by to zrobić, oto przykładowe:"
   ]
  },
  {
   "cell_type": "markdown",
   "metadata": {},
   "source": [
    "* pojedynczo z poziomu konsoli"
   ]
  },
  {
   "cell_type": "code",
   "execution_count": null,
   "metadata": {},
   "outputs": [],
   "source": [
    "! pip install pandas"
   ]
  },
  {
   "cell_type": "markdown",
   "metadata": {},
   "source": [
    "* \"hurtowo\" wykorzystując plik requirements.txt, który jest najprostszą metodą przechowywania niezbędnych paczek dla danego projektu (tutaj widoczne są biblioteki wykorzystywane przez nas)"
   ]
  },
  {
   "cell_type": "code",
   "execution_count": 7,
   "metadata": {},
   "outputs": [
    {
     "name": "stdout",
     "output_type": "stream",
     "text": [
      "jupyter\n",
      "\n",
      "numpy\n",
      "\n",
      "pillow\n",
      "\n",
      "matplotlib\n",
      "\n",
      "tqdm\n",
      "\n",
      "opencv-python\n"
     ]
    }
   ],
   "source": [
    "with open('../requirements.txt','r') as f:\n",
    "    for req in f.readlines():\n",
    "        print(req)"
   ]
  },
  {
   "cell_type": "code",
   "execution_count": null,
   "metadata": {},
   "outputs": [],
   "source": [
    "! pip install -r ../requirements.txt"
   ]
  },
  {
   "cell_type": "markdown",
   "metadata": {},
   "source": [
    "###### Resztę potrzebnych komend poznasz w kolejnych rozdziałach poradnika. To jak, zaczynamy?"
   ]
  }
 ],
 "metadata": {
  "kernelspec": {
   "display_name": "Python 3",
   "language": "python",
   "name": "python3"
  },
  "language_info": {
   "codemirror_mode": {
    "name": "ipython",
    "version": 3
   },
   "file_extension": ".py",
   "mimetype": "text/x-python",
   "name": "python",
   "nbconvert_exporter": "python",
   "pygments_lexer": "ipython3",
   "version": "3.6.8"
  }
 },
 "nbformat": 4,
 "nbformat_minor": 2
}
