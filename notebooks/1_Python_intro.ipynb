{
 "cells": [
  {
   "cell_type": "markdown",
   "metadata": {},
   "source": [
    "# Wstęp do pythona"
   ]
  },
  {
   "cell_type": "markdown",
   "metadata": {},
   "source": [
    "## O języku węża"
   ]
  },
  {
   "cell_type": "code",
   "execution_count": null,
   "metadata": {},
   "outputs": [],
   "source": []
  },
  {
   "cell_type": "markdown",
   "metadata": {},
   "source": [
    "## Python 2.x, a 3.x"
   ]
  },
  {
   "cell_type": "markdown",
   "metadata": {},
   "source": [
    "### Ramy czasowe"
   ]
  },
  {
   "cell_type": "markdown",
   "metadata": {},
   "source": [
    "Python 2.x jest z nami od początku XXI wieku. Wprowadził takie cechy jak list comprehension (`[str(x) for x in range(10)]`), jednak jego wsparcie zostanie porzucone od 2020 roku. Oznacza to, że poza nielicznymi przypadkami (rozwijanie starych projektów, których konwersja do 3.x może okazać się zbyt ryzykowna i/lub pracochłonna) nie warto rozważać, czy wybrać Pythona 2.x czy 3.x.  \n",
    "\n",
    "Python 3 został wydany pod koniec 2008 roku. Obecnie wykorzystuje się jego wersje 3.6 (wspacie 99% bibliotek) oraz 3.7 (ostatnia stabilna wersja, trwają pracę nad wsparciem brakujących bibliotek).  \n",
    "\n",
    "Z tych względów w tym poradniku wykorzystywać będziemy wersję 3.6."
   ]
  },
  {
   "cell_type": "markdown",
   "metadata": {},
   "source": [
    "### Różnice"
   ]
  },
  {
   "cell_type": "markdown",
   "metadata": {},
   "source": [
    "Dla tych z Państwa , którzy na codzień mieli jedynie do czynienia z 2-gą wersją Pythona zaprezentujemy kilka konceptów, które zostały zmienione wraz z wzrostem o 1 głównego numeru wersji."
   ]
  },
  {
   "cell_type": "code",
   "execution_count": 2,
   "metadata": {},
   "outputs": [
    {
     "name": "stdout",
     "output_type": "stream",
     "text": [
      "tak dziala python 3\n"
     ]
    }
   ],
   "source": [
    "print('tak dziala python 3')\n",
    "# dla pythona 2: print 'tak dziala python 2'"
   ]
  },
  {
   "cell_type": "markdown",
   "metadata": {},
   "source": [
    "Więcej:\n",
    "https://sebastianraschka.com/Articles/2014_python_2_3_key_diff.html"
   ]
  },
  {
   "cell_type": "markdown",
   "metadata": {},
   "source": [
    "## Podstawowe komendy"
   ]
  },
  {
   "cell_type": "markdown",
   "metadata": {},
   "source": [
    "* wyrażenia warunkowe"
   ]
  },
  {
   "cell_type": "code",
   "execution_count": 3,
   "metadata": {},
   "outputs": [
    {
     "name": "stdout",
     "output_type": "stream",
     "text": [
      "Python is easy!\n"
     ]
    }
   ],
   "source": [
    "python_is_easy = True # boolean True lub False\n",
    "if python_is_easy:\n",
    "    print('Python is easy!')\n",
    "else:\n",
    "    print('Python is hard :(')"
   ]
  },
  {
   "cell_type": "markdown",
   "metadata": {},
   "source": [
    "* pętla while"
   ]
  },
  {
   "cell_type": "code",
   "execution_count": 4,
   "metadata": {},
   "outputs": [
    {
     "name": "stdout",
     "output_type": "stream",
     "text": [
      "W\n",
      "pythonie\n",
      "możemy\n",
      "używać\n",
      "pojedynczyk\n",
      "lub\n",
      "podwójnych\n",
      "apostrofów\n",
      "do\n",
      "znaków\n",
      "bądź\n",
      "słów\n"
     ]
    }
   ],
   "source": [
    "string = r'W pythonie możemy używać pojedynczyk lub podwójnych apostrofów do znaków bądź słów'\n",
    "slowa = string.split(' ') # ta metoda dzieli nam ciąg znaków/słów wg podanego kryterium, tutaj po spacji.\n",
    "licznik = 0\n",
    "\n",
    "while licznik<len(slowa):\n",
    "    print(slowa[licznik])\n",
    "    licznik+=1"
   ]
  },
  {
   "cell_type": "markdown",
   "metadata": {},
   "source": [
    "czego się dodatkowo dowiedzieliśmy\n",
    "* w pythonie możemy wykonywać operacje +,-,*,/ skracając wyrażenie\n",
    "* indeksujemy od 0 i w nawiasie kwadratowym\n",
    "* metoda len pozwala na sprawdzenie elementów obiektu"
   ]
  },
  {
   "cell_type": "markdown",
   "metadata": {},
   "source": [
    "* pętla for"
   ]
  },
  {
   "cell_type": "code",
   "execution_count": 6,
   "metadata": {},
   "outputs": [],
   "source": [
    "import tqdm # ta paczka pozwoli nam na wygenerowanie paska postępu, przydatnego przy długich operacjach"
   ]
  },
  {
   "cell_type": "code",
   "execution_count": 11,
   "metadata": {},
   "outputs": [],
   "source": [
    "import urllib # pozwoli nam na przeczytanie pliku tekstowego z internetu"
   ]
  },
  {
   "cell_type": "code",
   "execution_count": 24,
   "metadata": {},
   "outputs": [
    {
     "name": "stderr",
     "output_type": "stream",
     "text": [
      "\r",
      "0it [00:00, ?it/s]"
     ]
    },
    {
     "name": "stdout",
     "output_type": "stream",
     "text": [
      "The Zen of Python, by Tim Peters\n",
      "\n",
      "\n",
      "\n",
      "Beautiful is better than ugly.\n",
      "\n",
      "Explicit is better than implicit.\n",
      "\n",
      "Simple is better than complex.\n",
      "\n",
      "Complex is better than complicated.\n",
      "\n",
      "Flat is better than nested.\n",
      "\n",
      "Sparse is better than dense.\n",
      "\n",
      "Readability counts.\n",
      "\n",
      "Special cases aren't special enough to break the rules.\n",
      "\n",
      "Although practicality beats purity.\n",
      "\n",
      "Errors should never pass silently.\n",
      "\n",
      "Unless explicitly silenced.\n",
      "\n",
      "In the face of ambiguity, refuse the temptation to guess.\n",
      "\n",
      "There should be one-- and preferably only one --obvious way to do it.\n",
      "\n",
      "Although that way may not be obvious at first unless you're Dutch.\n",
      "\n",
      "Now is better than never.\n",
      "\n",
      "Although never is often better than *right* now.\n",
      "\n",
      "If the implementation is hard to explain, it's a bad idea.\n",
      "\n",
      "If the implementation is easy to explain, it may be a good idea.\n",
      "\n",
      "Namespaces are one honking great idea -- let's do more of those!\n",
      "\n"
     ]
    },
    {
     "name": "stderr",
     "output_type": "stream",
     "text": [
      "21it [00:00, 915.76it/s]\n"
     ]
    }
   ],
   "source": [
    "with urllib.request.urlopen('http://files.catwell.info/misc/mirror/zen-of-python.txt') as txt:\n",
    "    for line in tqdm.tqdm(txt):\n",
    "        print(line.decode(\"utf-8\"))"
   ]
  },
  {
   "cell_type": "markdown",
   "metadata": {},
   "source": [
    "Jest to znane Zem of Python. Uzyskać możemy je też przez \"import this\". Wywołać komendy w jupyter notebooku możemy wywoływać również z poziomu terminala/shell. Należy poprzedzić komendę wykrzyknikiem. Przecinkiem możemy rozdzielać "
   ]
  },
  {
   "cell_type": "code",
   "execution_count": 23,
   "metadata": {},
   "outputs": [],
   "source": [
    "! python -c \"import antigravity\""
   ]
  },
  {
   "cell_type": "markdown",
   "metadata": {},
   "source": [
    "czego się dowiedzieliśmy:\n",
    "* konstrukcja with ... as x pozwala na otwarcie np. pliku bez konieczności zamykania go.\n",
    "* w pythonie można iterować po wielu obiektach bez większego wysiłku.\n",
    "* Python jest językiem obiektowym (choć nie wymaga od nas pisania obiektów) i jego obiekty posiadają metody (objekt.metoda() to domyślny sposób wywołania metody, jednak niektóre np. len, print, czy call-> (). Są one zaszyte pod metodami \\_\\_nazwa\\_\\_, jak np. \\_\\_len\\_\\_"
   ]
  },
  {
   "cell_type": "markdown",
   "metadata": {},
   "source": [
    "* podejrzenie metod objektu"
   ]
  },
  {
   "cell_type": "code",
   "execution_count": 17,
   "metadata": {},
   "outputs": [
    {
     "data": {
      "text/plain": [
       "['__add__',\n",
       " '__class__',\n",
       " '__contains__',\n",
       " '__delattr__',\n",
       " '__dir__',\n",
       " '__doc__',\n",
       " '__eq__',\n",
       " '__format__',\n",
       " '__ge__',\n",
       " '__getattribute__',\n",
       " '__getitem__',\n",
       " '__getnewargs__',\n",
       " '__gt__',\n",
       " '__hash__',\n",
       " '__init__',\n",
       " '__init_subclass__',\n",
       " '__iter__',\n",
       " '__le__',\n",
       " '__len__',\n",
       " '__lt__',\n",
       " '__mod__',\n",
       " '__mul__',\n",
       " '__ne__',\n",
       " '__new__',\n",
       " '__reduce__',\n",
       " '__reduce_ex__',\n",
       " '__repr__',\n",
       " '__rmod__',\n",
       " '__rmul__',\n",
       " '__setattr__',\n",
       " '__sizeof__',\n",
       " '__str__',\n",
       " '__subclasshook__',\n",
       " 'capitalize',\n",
       " 'casefold',\n",
       " 'center',\n",
       " 'count',\n",
       " 'encode',\n",
       " 'endswith',\n",
       " 'expandtabs',\n",
       " 'find',\n",
       " 'format',\n",
       " 'format_map',\n",
       " 'index',\n",
       " 'isalnum',\n",
       " 'isalpha',\n",
       " 'isdecimal',\n",
       " 'isdigit',\n",
       " 'isidentifier',\n",
       " 'islower',\n",
       " 'isnumeric',\n",
       " 'isprintable',\n",
       " 'isspace',\n",
       " 'istitle',\n",
       " 'isupper',\n",
       " 'join',\n",
       " 'ljust',\n",
       " 'lower',\n",
       " 'lstrip',\n",
       " 'maketrans',\n",
       " 'partition',\n",
       " 'replace',\n",
       " 'rfind',\n",
       " 'rindex',\n",
       " 'rjust',\n",
       " 'rpartition',\n",
       " 'rsplit',\n",
       " 'rstrip',\n",
       " 'split',\n",
       " 'splitlines',\n",
       " 'startswith',\n",
       " 'strip',\n",
       " 'swapcase',\n",
       " 'title',\n",
       " 'translate',\n",
       " 'upper',\n",
       " 'zfill']"
      ]
     },
     "execution_count": 17,
     "metadata": {},
     "output_type": "execute_result"
    }
   ],
   "source": [
    "dir(str)"
   ]
  },
  {
   "cell_type": "markdown",
   "metadata": {},
   "source": [
    "* podejrzenie metod z których możemy skorzystać (nie są one ziamplementowane dla innych celów)"
   ]
  },
  {
   "cell_type": "code",
   "execution_count": 18,
   "metadata": {},
   "outputs": [
    {
     "name": "stdout",
     "output_type": "stream",
     "text": [
      "['capitalize', 'casefold', 'center', 'count', 'encode', 'endswith', 'expandtabs', 'find', 'format', 'format_map', 'index', 'isalnum', 'isalpha', 'isdecimal', 'isdigit', 'isidentifier', 'islower', 'isnumeric', 'isprintable', 'isspace', 'istitle', 'isupper', 'join', 'ljust', 'lower', 'lstrip', 'maketrans', 'partition', 'replace', 'rfind', 'rindex', 'rjust', 'rpartition', 'rsplit', 'rstrip', 'split', 'splitlines', 'startswith', 'strip', 'swapcase', 'title', 'translate', 'upper', 'zfill']\n"
     ]
    }
   ],
   "source": [
    "metody = [metoda for metoda in dir(str) if '__' not in metoda]\n",
    "print(metody)"
   ]
  },
  {
   "cell_type": "markdown",
   "metadata": {},
   "source": [
    "Wykorzystaliśmy tutaj tzw list comprehension, które umożliwia uzyskanie listy z elementami przetworzonymi lub przefiltrowanymi wybranym przez nas kryterium. Wykorzystywane często przy prostych operacjach. Działają też dla obiektow tuple (krotka) lub dictionary (słownik)."
   ]
  },
  {
   "cell_type": "code",
   "execution_count": 27,
   "metadata": {},
   "outputs": [
    {
     "data": {
      "text/plain": [
       "{'capitalize': 0,\n",
       " 'casefold': 1,\n",
       " 'center': 2,\n",
       " 'count': 3,\n",
       " 'encode': 4,\n",
       " 'endswith': 5,\n",
       " 'expandtabs': 6,\n",
       " 'find': 7,\n",
       " 'format': 8,\n",
       " 'format_map': 9,\n",
       " 'index': 10,\n",
       " 'isalnum': 11,\n",
       " 'isalpha': 12,\n",
       " 'isdecimal': 13,\n",
       " 'isdigit': 14,\n",
       " 'isidentifier': 15,\n",
       " 'islower': 16,\n",
       " 'isnumeric': 17,\n",
       " 'isprintable': 18,\n",
       " 'isspace': 19,\n",
       " 'istitle': 20,\n",
       " 'isupper': 21,\n",
       " 'join': 22,\n",
       " 'ljust': 23,\n",
       " 'lower': 24,\n",
       " 'lstrip': 25,\n",
       " 'maketrans': 26,\n",
       " 'partition': 27,\n",
       " 'replace': 28,\n",
       " 'rfind': 29,\n",
       " 'rindex': 30,\n",
       " 'rjust': 31,\n",
       " 'rpartition': 32,\n",
       " 'rsplit': 33,\n",
       " 'rstrip': 34,\n",
       " 'split': 35,\n",
       " 'splitlines': 36,\n",
       " 'startswith': 37,\n",
       " 'strip': 38,\n",
       " 'swapcase': 39,\n",
       " 'title': 40,\n",
       " 'translate': 41,\n",
       " 'upper': 42,\n",
       " 'zfill': 43}"
      ]
     },
     "execution_count": 27,
     "metadata": {},
     "output_type": "execute_result"
    }
   ],
   "source": [
    "{metody[i]:i for i in range(len(metody))}"
   ]
  },
  {
   "cell_type": "code",
   "execution_count": 28,
   "metadata": {},
   "outputs": [
    {
     "data": {
      "text/plain": [
       "(('capitalize', 0),\n",
       " ('casefold', 1),\n",
       " ('center', 2),\n",
       " ('count', 3),\n",
       " ('encode', 4),\n",
       " ('endswith', 5),\n",
       " ('expandtabs', 6),\n",
       " ('find', 7),\n",
       " ('format', 8),\n",
       " ('format_map', 9),\n",
       " ('index', 10),\n",
       " ('isalnum', 11),\n",
       " ('isalpha', 12),\n",
       " ('isdecimal', 13),\n",
       " ('isdigit', 14),\n",
       " ('isidentifier', 15),\n",
       " ('islower', 16),\n",
       " ('isnumeric', 17),\n",
       " ('isprintable', 18),\n",
       " ('isspace', 19),\n",
       " ('istitle', 20),\n",
       " ('isupper', 21),\n",
       " ('join', 22),\n",
       " ('ljust', 23),\n",
       " ('lower', 24),\n",
       " ('lstrip', 25),\n",
       " ('maketrans', 26),\n",
       " ('partition', 27),\n",
       " ('replace', 28),\n",
       " ('rfind', 29),\n",
       " ('rindex', 30),\n",
       " ('rjust', 31),\n",
       " ('rpartition', 32),\n",
       " ('rsplit', 33),\n",
       " ('rstrip', 34),\n",
       " ('split', 35),\n",
       " ('splitlines', 36),\n",
       " ('startswith', 37),\n",
       " ('strip', 38),\n",
       " ('swapcase', 39),\n",
       " ('title', 40),\n",
       " ('translate', 41),\n",
       " ('upper', 42),\n",
       " ('zfill', 43))"
      ]
     },
     "execution_count": 28,
     "metadata": {},
     "output_type": "execute_result"
    }
   ],
   "source": [
    "tuple((metody[i],i) for i in range(len(metody)))"
   ]
  },
  {
   "cell_type": "markdown",
   "metadata": {},
   "source": [
    "## Instalacja bibliotek"
   ]
  },
  {
   "cell_type": "markdown",
   "metadata": {},
   "source": [
    "* pojedynczo z poziomu konsoli"
   ]
  },
  {
   "cell_type": "code",
   "execution_count": 4,
   "metadata": {},
   "outputs": [
    {
     "name": "stdout",
     "output_type": "stream",
     "text": [
      "Requirement already satisfied: pandas in c:\\users\\szymk\\miniconda3\\envs\\cvguide\\lib\\site-packages\n",
      "Requirement already satisfied: pytz>=2011k in c:\\users\\szymk\\miniconda3\\envs\\cvguide\\lib\\site-packages (from pandas)\n",
      "Requirement already satisfied: python-dateutil>=2.5.0 in c:\\users\\szymk\\miniconda3\\envs\\cvguide\\lib\\site-packages (from pandas)\n",
      "Requirement already satisfied: numpy>=1.9.0 in c:\\users\\szymk\\miniconda3\\envs\\cvguide\\lib\\site-packages (from pandas)\n",
      "Requirement already satisfied: six>=1.5 in c:\\users\\szymk\\miniconda3\\envs\\cvguide\\lib\\site-packages (from python-dateutil>=2.5.0->pandas)\n"
     ]
    },
    {
     "name": "stderr",
     "output_type": "stream",
     "text": [
      "You are using pip version 9.0.3, however version 18.1 is available.\n",
      "You should consider upgrading via the 'python -m pip install --upgrade pip' command.\n"
     ]
    }
   ],
   "source": [
    "! pip install pandas"
   ]
  },
  {
   "cell_type": "markdown",
   "metadata": {},
   "source": [
    "* \"hurtowo\" wykorzystując plik requirements.txt, który jest najprostszą metodą przechowywania niezbędnych paczek dla danego projektu"
   ]
  },
  {
   "cell_type": "code",
   "execution_count": 7,
   "metadata": {},
   "outputs": [
    {
     "name": "stdout",
     "output_type": "stream",
     "text": [
      "jupyter\n",
      "\n",
      "numpy\n",
      "\n",
      "pillow\n",
      "\n",
      "matplotlib\n",
      "\n",
      "tqdm\n",
      "\n",
      "opencv-python\n"
     ]
    }
   ],
   "source": [
    "with open('../requirements.txt','r') as f:\n",
    "    for req in f.readlines():\n",
    "        print(req)"
   ]
  },
  {
   "cell_type": "code",
   "execution_count": 8,
   "metadata": {},
   "outputs": [
    {
     "name": "stdout",
     "output_type": "stream",
     "text": [
      "Requirement already satisfied: jupyter in c:\\users\\szymk\\miniconda3\\envs\\cvguide\\lib\\site-packages (from -r ../requirements.txt (line 1))\n",
      "Requirement already satisfied: numpy in c:\\users\\szymk\\miniconda3\\envs\\cvguide\\lib\\site-packages (from -r ../requirements.txt (line 2))\n",
      "Requirement already satisfied: pillow in c:\\users\\szymk\\miniconda3\\envs\\cvguide\\lib\\site-packages (from -r ../requirements.txt (line 3))\n",
      "Requirement already satisfied: matplotlib in c:\\users\\szymk\\miniconda3\\envs\\cvguide\\lib\\site-packages (from -r ../requirements.txt (line 4))\n",
      "Requirement already satisfied: tqdm in c:\\users\\szymk\\miniconda3\\envs\\cvguide\\lib\\site-packages (from -r ../requirements.txt (line 5))\n",
      "Requirement already satisfied: opencv-python in c:\\users\\szymk\\miniconda3\\envs\\cvguide\\lib\\site-packages (from -r ../requirements.txt (line 6))\n",
      "Requirement already satisfied: notebook in c:\\users\\szymk\\miniconda3\\envs\\cvguide\\lib\\site-packages (from jupyter->-r ../requirements.txt (line 1))\n",
      "Requirement already satisfied: jupyter-console in c:\\users\\szymk\\miniconda3\\envs\\cvguide\\lib\\site-packages (from jupyter->-r ../requirements.txt (line 1))\n",
      "Requirement already satisfied: ipykernel in c:\\users\\szymk\\miniconda3\\envs\\cvguide\\lib\\site-packages (from jupyter->-r ../requirements.txt (line 1))\n",
      "Requirement already satisfied: ipywidgets in c:\\users\\szymk\\miniconda3\\envs\\cvguide\\lib\\site-packages (from jupyter->-r ../requirements.txt (line 1))\n",
      "Requirement already satisfied: qtconsole in c:\\users\\szymk\\miniconda3\\envs\\cvguide\\lib\\site-packages (from jupyter->-r ../requirements.txt (line 1))\n",
      "Requirement already satisfied: nbconvert in c:\\users\\szymk\\miniconda3\\envs\\cvguide\\lib\\site-packages (from jupyter->-r ../requirements.txt (line 1))\n",
      "Requirement already satisfied: python-dateutil>=2.1 in c:\\users\\szymk\\miniconda3\\envs\\cvguide\\lib\\site-packages (from matplotlib->-r ../requirements.txt (line 4))\n",
      "Requirement already satisfied: cycler>=0.10 in c:\\users\\szymk\\miniconda3\\envs\\cvguide\\lib\\site-packages (from matplotlib->-r ../requirements.txt (line 4))\n",
      "Requirement already satisfied: kiwisolver>=1.0.1 in c:\\users\\szymk\\miniconda3\\envs\\cvguide\\lib\\site-packages (from matplotlib->-r ../requirements.txt (line 4))\n",
      "Requirement already satisfied: pyparsing!=2.0.4,!=2.1.2,!=2.1.6,>=2.0.1 in c:\\users\\szymk\\miniconda3\\envs\\cvguide\\lib\\site-packages (from matplotlib->-r ../requirements.txt (line 4))\n",
      "Requirement already satisfied: terminado>=0.8.1 in c:\\users\\szymk\\miniconda3\\envs\\cvguide\\lib\\site-packages (from notebook->jupyter->-r ../requirements.txt (line 1))\n",
      "Requirement already satisfied: jupyter-client>=5.2.0 in c:\\users\\szymk\\miniconda3\\envs\\cvguide\\lib\\site-packages (from notebook->jupyter->-r ../requirements.txt (line 1))\n",
      "Requirement already satisfied: ipython-genutils in c:\\users\\szymk\\miniconda3\\envs\\cvguide\\lib\\site-packages (from notebook->jupyter->-r ../requirements.txt (line 1))\n",
      "Requirement already satisfied: jupyter-core>=4.4.0 in c:\\users\\szymk\\miniconda3\\envs\\cvguide\\lib\\site-packages (from notebook->jupyter->-r ../requirements.txt (line 1))\n",
      "Requirement already satisfied: Send2Trash in c:\\users\\szymk\\miniconda3\\envs\\cvguide\\lib\\site-packages (from notebook->jupyter->-r ../requirements.txt (line 1))\n",
      "Requirement already satisfied: pyzmq>=17 in c:\\users\\szymk\\miniconda3\\envs\\cvguide\\lib\\site-packages (from notebook->jupyter->-r ../requirements.txt (line 1))\n",
      "Requirement already satisfied: jinja2 in c:\\users\\szymk\\miniconda3\\envs\\cvguide\\lib\\site-packages (from notebook->jupyter->-r ../requirements.txt (line 1))\n",
      "Requirement already satisfied: tornado>=4 in c:\\users\\szymk\\miniconda3\\envs\\cvguide\\lib\\site-packages (from notebook->jupyter->-r ../requirements.txt (line 1))\n",
      "Requirement already satisfied: nbformat in c:\\users\\szymk\\miniconda3\\envs\\cvguide\\lib\\site-packages (from notebook->jupyter->-r ../requirements.txt (line 1))\n",
      "Requirement already satisfied: traitlets>=4.2.1 in c:\\users\\szymk\\miniconda3\\envs\\cvguide\\lib\\site-packages (from notebook->jupyter->-r ../requirements.txt (line 1))\n",
      "Requirement already satisfied: prometheus-client in c:\\users\\szymk\\miniconda3\\envs\\cvguide\\lib\\site-packages (from notebook->jupyter->-r ../requirements.txt (line 1))\n",
      "Requirement already satisfied: prompt-toolkit<2.1.0,>=2.0.0 in c:\\users\\szymk\\miniconda3\\envs\\cvguide\\lib\\site-packages (from jupyter-console->jupyter->-r ../requirements.txt (line 1))\n",
      "Requirement already satisfied: ipython in c:\\users\\szymk\\miniconda3\\envs\\cvguide\\lib\\site-packages (from jupyter-console->jupyter->-r ../requirements.txt (line 1))\n",
      "Requirement already satisfied: pygments in c:\\users\\szymk\\miniconda3\\envs\\cvguide\\lib\\site-packages (from jupyter-console->jupyter->-r ../requirements.txt (line 1))\n",
      "Requirement already satisfied: widgetsnbextension~=3.4.0 in c:\\users\\szymk\\miniconda3\\envs\\cvguide\\lib\\site-packages (from ipywidgets->jupyter->-r ../requirements.txt (line 1))\n",
      "Requirement already satisfied: defusedxml in c:\\users\\szymk\\miniconda3\\envs\\cvguide\\lib\\site-packages (from nbconvert->jupyter->-r ../requirements.txt (line 1))\n",
      "Requirement already satisfied: entrypoints>=0.2.2 in c:\\users\\szymk\\miniconda3\\envs\\cvguide\\lib\\site-packages (from nbconvert->jupyter->-r ../requirements.txt (line 1))\n",
      "Requirement already satisfied: bleach in c:\\users\\szymk\\miniconda3\\envs\\cvguide\\lib\\site-packages (from nbconvert->jupyter->-r ../requirements.txt (line 1))\n",
      "Requirement already satisfied: mistune>=0.8.1 in c:\\users\\szymk\\miniconda3\\envs\\cvguide\\lib\\site-packages (from nbconvert->jupyter->-r ../requirements.txt (line 1))\n",
      "Requirement already satisfied: testpath in c:\\users\\szymk\\miniconda3\\envs\\cvguide\\lib\\site-packages (from nbconvert->jupyter->-r ../requirements.txt (line 1))\n",
      "Requirement already satisfied: pandocfilters>=1.4.1 in c:\\users\\szymk\\miniconda3\\envs\\cvguide\\lib\\site-packages (from nbconvert->jupyter->-r ../requirements.txt (line 1))\n",
      "Requirement already satisfied: six>=1.5 in c:\\users\\szymk\\miniconda3\\envs\\cvguide\\lib\\site-packages (from python-dateutil>=2.1->matplotlib->-r ../requirements.txt (line 4))\n",
      "Requirement already satisfied: setuptools in c:\\users\\szymk\\miniconda3\\envs\\cvguide\\lib\\site-packages (from kiwisolver>=1.0.1->matplotlib->-r ../requirements.txt (line 4))\n",
      "Requirement already satisfied: pywinpty>=0.5; os_name == \"nt\" in c:\\users\\szymk\\miniconda3\\envs\\cvguide\\lib\\site-packages (from terminado>=0.8.1->notebook->jupyter->-r ../requirements.txt (line 1))\n",
      "Requirement already satisfied: MarkupSafe>=0.23 in c:\\users\\szymk\\miniconda3\\envs\\cvguide\\lib\\site-packages (from jinja2->notebook->jupyter->-r ../requirements.txt (line 1))\n",
      "Requirement already satisfied: jsonschema!=2.5.0,>=2.4 in c:\\users\\szymk\\miniconda3\\envs\\cvguide\\lib\\site-packages (from nbformat->notebook->jupyter->-r ../requirements.txt (line 1))\n",
      "Requirement already satisfied: decorator in c:\\users\\szymk\\miniconda3\\envs\\cvguide\\lib\\site-packages (from traitlets>=4.2.1->notebook->jupyter->-r ../requirements.txt (line 1))\n",
      "Requirement already satisfied: wcwidth in c:\\users\\szymk\\miniconda3\\envs\\cvguide\\lib\\site-packages (from prompt-toolkit<2.1.0,>=2.0.0->jupyter-console->jupyter->-r ../requirements.txt (line 1))\n",
      "Requirement already satisfied: pickleshare in c:\\users\\szymk\\miniconda3\\envs\\cvguide\\lib\\site-packages (from ipython->jupyter-console->jupyter->-r ../requirements.txt (line 1))\n",
      "Requirement already satisfied: backcall in c:\\users\\szymk\\miniconda3\\envs\\cvguide\\lib\\site-packages (from ipython->jupyter-console->jupyter->-r ../requirements.txt (line 1))\n",
      "Requirement already satisfied: colorama; sys_platform == \"win32\" in c:\\users\\szymk\\miniconda3\\envs\\cvguide\\lib\\site-packages (from ipython->jupyter-console->jupyter->-r ../requirements.txt (line 1))\n",
      "Requirement already satisfied: jedi>=0.10 in c:\\users\\szymk\\miniconda3\\envs\\cvguide\\lib\\site-packages (from ipython->jupyter-console->jupyter->-r ../requirements.txt (line 1))\n",
      "Requirement already satisfied: webencodings in c:\\users\\szymk\\miniconda3\\envs\\cvguide\\lib\\site-packages (from bleach->nbconvert->jupyter->-r ../requirements.txt (line 1))\n",
      "Requirement already satisfied: parso>=0.3.0 in c:\\users\\szymk\\miniconda3\\envs\\cvguide\\lib\\site-packages (from jedi>=0.10->ipython->jupyter-console->jupyter->-r ../requirements.txt (line 1))\n"
     ]
    },
    {
     "name": "stderr",
     "output_type": "stream",
     "text": [
      "You are using pip version 9.0.3, however version 18.1 is available.\n",
      "You should consider upgrading via the 'python -m pip install --upgrade pip' command.\n"
     ]
    }
   ],
   "source": [
    "! pip install -r ../requirements.txt"
   ]
  },
  {
   "cell_type": "code",
   "execution_count": null,
   "metadata": {},
   "outputs": [],
   "source": []
  }
 ],
 "metadata": {
  "kernelspec": {
   "display_name": "Python 3",
   "language": "python",
   "name": "python3"
  },
  "language_info": {
   "codemirror_mode": {
    "name": "ipython",
    "version": 3
   },
   "file_extension": ".py",
   "mimetype": "text/x-python",
   "name": "python",
   "nbconvert_exporter": "python",
   "pygments_lexer": "ipython3",
   "version": "3.6.5"
  }
 },
 "nbformat": 4,
 "nbformat_minor": 2
}
